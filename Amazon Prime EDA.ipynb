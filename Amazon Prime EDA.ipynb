{
 "cells": [
  {
   "cell_type": "markdown",
   "id": "b3a45fe3",
   "metadata": {},
   "source": [
    "### Amazon Prime Exploratory Data Analysis"
   ]
  },
  {
   "cell_type": "markdown",
   "id": "4a7e0192",
   "metadata": {},
   "source": [
    "##### About Dataset\n",
    "Amazon Prime is another one of the most popular media and video streaming platforms. They have close to 10000 movies or tv shows available on their platform, as of mid-2021, they have over 200M Subscribers globally. This tabular dataset consists of listings of all the movies and tv shows available on Amazon Prime, along with details such as - cast, directors, ratings, release year, duration, etc.*"
   ]
  },
  {
   "cell_type": "code",
   "execution_count": 1,
   "id": "a344cb06",
   "metadata": {},
   "outputs": [],
   "source": [
    "import pandas as pd\n",
    "import numpy as np\n",
    "import matplotlib.pyplot as plt\n",
    "import seaborn as sns\n",
    "%matplotlib inline"
   ]
  },
  {
   "cell_type": "code",
   "execution_count": 2,
   "id": "dc70a4c7",
   "metadata": {},
   "outputs": [],
   "source": [
    "df = pd.read_csv('amazon_prime_titles.csv')"
   ]
  },
  {
   "cell_type": "code",
   "execution_count": 3,
   "id": "a75a81ed",
   "metadata": {},
   "outputs": [
    {
     "data": {
      "text/html": [
       "<div>\n",
       "<style scoped>\n",
       "    .dataframe tbody tr th:only-of-type {\n",
       "        vertical-align: middle;\n",
       "    }\n",
       "\n",
       "    .dataframe tbody tr th {\n",
       "        vertical-align: top;\n",
       "    }\n",
       "\n",
       "    .dataframe thead th {\n",
       "        text-align: right;\n",
       "    }\n",
       "</style>\n",
       "<table border=\"1\" class=\"dataframe\">\n",
       "  <thead>\n",
       "    <tr style=\"text-align: right;\">\n",
       "      <th></th>\n",
       "      <th>show_id</th>\n",
       "      <th>type</th>\n",
       "      <th>title</th>\n",
       "      <th>director</th>\n",
       "      <th>cast</th>\n",
       "      <th>country</th>\n",
       "      <th>date_added</th>\n",
       "      <th>release_year</th>\n",
       "      <th>rating</th>\n",
       "      <th>duration</th>\n",
       "      <th>listed_in</th>\n",
       "      <th>description</th>\n",
       "    </tr>\n",
       "  </thead>\n",
       "  <tbody>\n",
       "    <tr>\n",
       "      <th>0</th>\n",
       "      <td>s1</td>\n",
       "      <td>Movie</td>\n",
       "      <td>The Grand Seduction</td>\n",
       "      <td>Don McKellar</td>\n",
       "      <td>Brendan Gleeson, Taylor Kitsch, Gordon Pinsent</td>\n",
       "      <td>Canada</td>\n",
       "      <td>March 30, 2021</td>\n",
       "      <td>2014</td>\n",
       "      <td>NaN</td>\n",
       "      <td>113 min</td>\n",
       "      <td>Comedy, Drama</td>\n",
       "      <td>A small fishing village must procure a local d...</td>\n",
       "    </tr>\n",
       "    <tr>\n",
       "      <th>1</th>\n",
       "      <td>s2</td>\n",
       "      <td>Movie</td>\n",
       "      <td>Take Care Good Night</td>\n",
       "      <td>Girish Joshi</td>\n",
       "      <td>Mahesh Manjrekar, Abhay Mahajan, Sachin Khedekar</td>\n",
       "      <td>India</td>\n",
       "      <td>March 30, 2021</td>\n",
       "      <td>2018</td>\n",
       "      <td>13+</td>\n",
       "      <td>110 min</td>\n",
       "      <td>Drama, International</td>\n",
       "      <td>A Metro Family decides to fight a Cyber Crimin...</td>\n",
       "    </tr>\n",
       "    <tr>\n",
       "      <th>2</th>\n",
       "      <td>s3</td>\n",
       "      <td>Movie</td>\n",
       "      <td>Secrets of Deception</td>\n",
       "      <td>Josh Webber</td>\n",
       "      <td>Tom Sizemore, Lorenzo Lamas, Robert LaSardo, R...</td>\n",
       "      <td>United States</td>\n",
       "      <td>March 30, 2021</td>\n",
       "      <td>2017</td>\n",
       "      <td>NaN</td>\n",
       "      <td>74 min</td>\n",
       "      <td>Action, Drama, Suspense</td>\n",
       "      <td>After a man discovers his wife is cheating on ...</td>\n",
       "    </tr>\n",
       "    <tr>\n",
       "      <th>3</th>\n",
       "      <td>s4</td>\n",
       "      <td>Movie</td>\n",
       "      <td>Pink: Staying True</td>\n",
       "      <td>Sonia Anderson</td>\n",
       "      <td>Interviews with: Pink, Adele, Beyoncé, Britney...</td>\n",
       "      <td>United States</td>\n",
       "      <td>March 30, 2021</td>\n",
       "      <td>2014</td>\n",
       "      <td>NaN</td>\n",
       "      <td>69 min</td>\n",
       "      <td>Documentary</td>\n",
       "      <td>Pink breaks the mold once again, bringing her ...</td>\n",
       "    </tr>\n",
       "    <tr>\n",
       "      <th>4</th>\n",
       "      <td>s5</td>\n",
       "      <td>Movie</td>\n",
       "      <td>Monster Maker</td>\n",
       "      <td>Giles Foster</td>\n",
       "      <td>Harry Dean Stanton, Kieran O'Brien, George Cos...</td>\n",
       "      <td>United Kingdom</td>\n",
       "      <td>March 30, 2021</td>\n",
       "      <td>1989</td>\n",
       "      <td>NaN</td>\n",
       "      <td>45 min</td>\n",
       "      <td>Drama, Fantasy</td>\n",
       "      <td>Teenage Matt Banting wants to work with a famo...</td>\n",
       "    </tr>\n",
       "  </tbody>\n",
       "</table>\n",
       "</div>"
      ],
      "text/plain": [
       "  show_id   type                 title        director  \\\n",
       "0      s1  Movie   The Grand Seduction    Don McKellar   \n",
       "1      s2  Movie  Take Care Good Night    Girish Joshi   \n",
       "2      s3  Movie  Secrets of Deception     Josh Webber   \n",
       "3      s4  Movie    Pink: Staying True  Sonia Anderson   \n",
       "4      s5  Movie         Monster Maker    Giles Foster   \n",
       "\n",
       "                                                cast         country  \\\n",
       "0     Brendan Gleeson, Taylor Kitsch, Gordon Pinsent          Canada   \n",
       "1   Mahesh Manjrekar, Abhay Mahajan, Sachin Khedekar           India   \n",
       "2  Tom Sizemore, Lorenzo Lamas, Robert LaSardo, R...   United States   \n",
       "3  Interviews with: Pink, Adele, Beyoncé, Britney...   United States   \n",
       "4  Harry Dean Stanton, Kieran O'Brien, George Cos...  United Kingdom   \n",
       "\n",
       "       date_added  release_year rating duration                listed_in  \\\n",
       "0  March 30, 2021          2014    NaN  113 min            Comedy, Drama   \n",
       "1  March 30, 2021          2018    13+  110 min     Drama, International   \n",
       "2  March 30, 2021          2017    NaN   74 min  Action, Drama, Suspense   \n",
       "3  March 30, 2021          2014    NaN   69 min              Documentary   \n",
       "4  March 30, 2021          1989    NaN   45 min           Drama, Fantasy   \n",
       "\n",
       "                                         description  \n",
       "0  A small fishing village must procure a local d...  \n",
       "1  A Metro Family decides to fight a Cyber Crimin...  \n",
       "2  After a man discovers his wife is cheating on ...  \n",
       "3  Pink breaks the mold once again, bringing her ...  \n",
       "4  Teenage Matt Banting wants to work with a famo...  "
      ]
     },
     "execution_count": 3,
     "metadata": {},
     "output_type": "execute_result"
    }
   ],
   "source": [
    "df.head()"
   ]
  },
  {
   "cell_type": "code",
   "execution_count": 3,
   "id": "69e6610b",
   "metadata": {},
   "outputs": [
    {
     "data": {
      "text/html": [
       "<div>\n",
       "<style scoped>\n",
       "    .dataframe tbody tr th:only-of-type {\n",
       "        vertical-align: middle;\n",
       "    }\n",
       "\n",
       "    .dataframe tbody tr th {\n",
       "        vertical-align: top;\n",
       "    }\n",
       "\n",
       "    .dataframe thead th {\n",
       "        text-align: right;\n",
       "    }\n",
       "</style>\n",
       "<table border=\"1\" class=\"dataframe\">\n",
       "  <thead>\n",
       "    <tr style=\"text-align: right;\">\n",
       "      <th></th>\n",
       "      <th>show_id</th>\n",
       "      <th>type</th>\n",
       "      <th>title</th>\n",
       "      <th>director</th>\n",
       "      <th>cast</th>\n",
       "      <th>country</th>\n",
       "      <th>date_added</th>\n",
       "      <th>release_year</th>\n",
       "      <th>rating</th>\n",
       "      <th>duration</th>\n",
       "      <th>listed_in</th>\n",
       "      <th>description</th>\n",
       "    </tr>\n",
       "  </thead>\n",
       "  <tbody>\n",
       "    <tr>\n",
       "      <th>9663</th>\n",
       "      <td>s9664</td>\n",
       "      <td>Movie</td>\n",
       "      <td>Pride Of The Bowery</td>\n",
       "      <td>Joseph H. Lewis</td>\n",
       "      <td>Leo Gorcey, Bobby Jordan</td>\n",
       "      <td>NaN</td>\n",
       "      <td>NaN</td>\n",
       "      <td>1940</td>\n",
       "      <td>7+</td>\n",
       "      <td>60 min</td>\n",
       "      <td>Comedy</td>\n",
       "      <td>New York City street principles get an East Si...</td>\n",
       "    </tr>\n",
       "    <tr>\n",
       "      <th>9664</th>\n",
       "      <td>s9665</td>\n",
       "      <td>TV Show</td>\n",
       "      <td>Planet Patrol</td>\n",
       "      <td>NaN</td>\n",
       "      <td>DICK VOSBURGH, RONNIE STEVENS, LIBBY MORRIS, M...</td>\n",
       "      <td>NaN</td>\n",
       "      <td>NaN</td>\n",
       "      <td>2018</td>\n",
       "      <td>13+</td>\n",
       "      <td>4 Seasons</td>\n",
       "      <td>TV Shows</td>\n",
       "      <td>This is Earth, 2100AD - and these are the adve...</td>\n",
       "    </tr>\n",
       "    <tr>\n",
       "      <th>9665</th>\n",
       "      <td>s9666</td>\n",
       "      <td>Movie</td>\n",
       "      <td>Outpost</td>\n",
       "      <td>Steve Barker</td>\n",
       "      <td>Ray Stevenson, Julian Wadham, Richard Brake, M...</td>\n",
       "      <td>NaN</td>\n",
       "      <td>NaN</td>\n",
       "      <td>2008</td>\n",
       "      <td>R</td>\n",
       "      <td>90 min</td>\n",
       "      <td>Action</td>\n",
       "      <td>In war-torn Eastern Europe, a world-weary grou...</td>\n",
       "    </tr>\n",
       "    <tr>\n",
       "      <th>9666</th>\n",
       "      <td>s9667</td>\n",
       "      <td>TV Show</td>\n",
       "      <td>Maradona: Blessed Dream</td>\n",
       "      <td>NaN</td>\n",
       "      <td>Esteban Recagno, Ezequiel Stremiz, Luciano Vit...</td>\n",
       "      <td>NaN</td>\n",
       "      <td>NaN</td>\n",
       "      <td>2021</td>\n",
       "      <td>TV-MA</td>\n",
       "      <td>1 Season</td>\n",
       "      <td>Drama, Sports</td>\n",
       "      <td>The series tells the story of Diego Maradona, ...</td>\n",
       "    </tr>\n",
       "    <tr>\n",
       "      <th>9667</th>\n",
       "      <td>s9668</td>\n",
       "      <td>Movie</td>\n",
       "      <td>Harry Brown</td>\n",
       "      <td>Daniel Barber</td>\n",
       "      <td>Michael Caine, Emily Mortimer, Joseph Gilgun, ...</td>\n",
       "      <td>NaN</td>\n",
       "      <td>NaN</td>\n",
       "      <td>2010</td>\n",
       "      <td>R</td>\n",
       "      <td>103 min</td>\n",
       "      <td>Action, Drama, Suspense</td>\n",
       "      <td>Harry Brown, starring two-time Academy Award w...</td>\n",
       "    </tr>\n",
       "  </tbody>\n",
       "</table>\n",
       "</div>"
      ],
      "text/plain": [
       "     show_id     type                    title         director  \\\n",
       "9663   s9664    Movie      Pride Of The Bowery  Joseph H. Lewis   \n",
       "9664   s9665  TV Show            Planet Patrol              NaN   \n",
       "9665   s9666    Movie                  Outpost     Steve Barker   \n",
       "9666   s9667  TV Show  Maradona: Blessed Dream              NaN   \n",
       "9667   s9668    Movie              Harry Brown    Daniel Barber   \n",
       "\n",
       "                                                   cast country date_added  \\\n",
       "9663                           Leo Gorcey, Bobby Jordan     NaN        NaN   \n",
       "9664  DICK VOSBURGH, RONNIE STEVENS, LIBBY MORRIS, M...     NaN        NaN   \n",
       "9665  Ray Stevenson, Julian Wadham, Richard Brake, M...     NaN        NaN   \n",
       "9666  Esteban Recagno, Ezequiel Stremiz, Luciano Vit...     NaN        NaN   \n",
       "9667  Michael Caine, Emily Mortimer, Joseph Gilgun, ...     NaN        NaN   \n",
       "\n",
       "      release_year rating   duration                listed_in  \\\n",
       "9663          1940     7+     60 min                   Comedy   \n",
       "9664          2018    13+  4 Seasons                 TV Shows   \n",
       "9665          2008      R     90 min                   Action   \n",
       "9666          2021  TV-MA   1 Season            Drama, Sports   \n",
       "9667          2010      R    103 min  Action, Drama, Suspense   \n",
       "\n",
       "                                            description  \n",
       "9663  New York City street principles get an East Si...  \n",
       "9664  This is Earth, 2100AD - and these are the adve...  \n",
       "9665  In war-torn Eastern Europe, a world-weary grou...  \n",
       "9666  The series tells the story of Diego Maradona, ...  \n",
       "9667  Harry Brown, starring two-time Academy Award w...  "
      ]
     },
     "execution_count": 3,
     "metadata": {},
     "output_type": "execute_result"
    }
   ],
   "source": [
    "df.tail()"
   ]
  },
  {
   "cell_type": "code",
   "execution_count": 4,
   "id": "33a52d18",
   "metadata": {},
   "outputs": [
    {
     "data": {
      "text/plain": [
       "(9668, 12)"
      ]
     },
     "execution_count": 4,
     "metadata": {},
     "output_type": "execute_result"
    }
   ],
   "source": [
    "df.shape"
   ]
  },
  {
   "cell_type": "markdown",
   "id": "f7a2c4a8",
   "metadata": {},
   "source": [
    "### Data Exploration"
   ]
  },
  {
   "cell_type": "code",
   "execution_count": 5,
   "id": "a783419d",
   "metadata": {},
   "outputs": [
    {
     "name": "stdout",
     "output_type": "stream",
     "text": [
      "<class 'pandas.core.frame.DataFrame'>\n",
      "RangeIndex: 9668 entries, 0 to 9667\n",
      "Data columns (total 12 columns):\n",
      " #   Column        Non-Null Count  Dtype \n",
      "---  ------        --------------  ----- \n",
      " 0   show_id       9668 non-null   object\n",
      " 1   type          9668 non-null   object\n",
      " 2   title         9668 non-null   object\n",
      " 3   director      7586 non-null   object\n",
      " 4   cast          8435 non-null   object\n",
      " 5   country       672 non-null    object\n",
      " 6   date_added    155 non-null    object\n",
      " 7   release_year  9668 non-null   int64 \n",
      " 8   rating        9331 non-null   object\n",
      " 9   duration      9668 non-null   object\n",
      " 10  listed_in     9668 non-null   object\n",
      " 11  description   9668 non-null   object\n",
      "dtypes: int64(1), object(11)\n",
      "memory usage: 906.5+ KB\n"
     ]
    }
   ],
   "source": [
    "df.info()"
   ]
  },
  {
   "cell_type": "code",
   "execution_count": 6,
   "id": "259d46d4",
   "metadata": {},
   "outputs": [
    {
     "data": {
      "text/plain": [
       "show_id            0\n",
       "type               0\n",
       "title              0\n",
       "director        2082\n",
       "cast            1233\n",
       "country         8996\n",
       "date_added      9513\n",
       "release_year       0\n",
       "rating           337\n",
       "duration           0\n",
       "listed_in          0\n",
       "description        0\n",
       "dtype: int64"
      ]
     },
     "execution_count": 6,
     "metadata": {},
     "output_type": "execute_result"
    }
   ],
   "source": [
    "df.isnull().sum()"
   ]
  },
  {
   "cell_type": "code",
   "execution_count": 7,
   "id": "e1ecdcda",
   "metadata": {},
   "outputs": [
    {
     "data": {
      "text/plain": [
       "0"
      ]
     },
     "execution_count": 7,
     "metadata": {},
     "output_type": "execute_result"
    }
   ],
   "source": [
    "df.duplicated().sum()"
   ]
  },
  {
   "cell_type": "markdown",
   "id": "8b4363b2",
   "metadata": {},
   "source": [
    "#### Key Points\n",
    "* There are total 9668 records and 12 features\n",
    "* There are missing values on the following features:\n",
    "    * director - 2082\n",
    "    * cast - 1233\n",
    "    * country - 8996\n",
    "    * date_added 9513\n",
    "    * rating - 337\n",
    "* There is no duplicate values present in the data."
   ]
  },
  {
   "cell_type": "markdown",
   "id": "a1c3f9fe",
   "metadata": {},
   "source": [
    "### Data Cleaning"
   ]
  },
  {
   "cell_type": "markdown",
   "id": "5fd6f949",
   "metadata": {},
   "source": [
    "Dropping the column which has more than 80% Null values. "
   ]
  },
  {
   "cell_type": "code",
   "execution_count": 8,
   "id": "264c75d1",
   "metadata": {},
   "outputs": [
    {
     "data": {
      "text/plain": [
       "show_id          0.00\n",
       "type             0.00\n",
       "title            0.00\n",
       "director        21.53\n",
       "cast            12.75\n",
       "country         93.05\n",
       "date_added      98.40\n",
       "release_year     0.00\n",
       "rating           3.49\n",
       "duration         0.00\n",
       "listed_in        0.00\n",
       "description      0.00\n",
       "dtype: float64"
      ]
     },
     "execution_count": 8,
     "metadata": {},
     "output_type": "execute_result"
    }
   ],
   "source": [
    "percentage = ((df.isnull().sum()/ df.shape[0])*100).round(2)\n",
    "percentage"
   ]
  },
  {
   "cell_type": "markdown",
   "id": "e59d7746",
   "metadata": {},
   "source": [
    "Looks like features like 'country' and 'date_added' has more than 80% of null values so we can drop it."
   ]
  },
  {
   "cell_type": "code",
   "execution_count": 9,
   "id": "7535af7b",
   "metadata": {},
   "outputs": [],
   "source": [
    "df.drop(['country', 'date_added'], axis=1, inplace=True)"
   ]
  },
  {
   "cell_type": "code",
   "execution_count": 11,
   "id": "0fda0c44",
   "metadata": {},
   "outputs": [
    {
     "data": {
      "text/plain": [
       "show_id            0\n",
       "type               0\n",
       "title              0\n",
       "director        2082\n",
       "cast            1233\n",
       "release_year       0\n",
       "rating           337\n",
       "duration           0\n",
       "listed_in          0\n",
       "description        0\n",
       "dtype: int64"
      ]
     },
     "execution_count": 11,
     "metadata": {},
     "output_type": "execute_result"
    }
   ],
   "source": [
    "df.isnull().sum()"
   ]
  },
  {
   "cell_type": "code",
   "execution_count": 10,
   "id": "4dc0c40b",
   "metadata": {},
   "outputs": [],
   "source": [
    "df.loc[:, 'director'] = df['director'].fillna('Unavailable')\n",
    "df.loc[:, 'cast'] = df['cast'].fillna('Unavailable')\n",
    "df.loc[:, 'rating'] = df['rating'].fillna('Unavailable')"
   ]
  },
  {
   "cell_type": "code",
   "execution_count": 11,
   "id": "5c4ff494",
   "metadata": {},
   "outputs": [
    {
     "data": {
      "text/html": [
       "<div>\n",
       "<style scoped>\n",
       "    .dataframe tbody tr th:only-of-type {\n",
       "        vertical-align: middle;\n",
       "    }\n",
       "\n",
       "    .dataframe tbody tr th {\n",
       "        vertical-align: top;\n",
       "    }\n",
       "\n",
       "    .dataframe thead th {\n",
       "        text-align: right;\n",
       "    }\n",
       "</style>\n",
       "<table border=\"1\" class=\"dataframe\">\n",
       "  <thead>\n",
       "    <tr style=\"text-align: right;\">\n",
       "      <th></th>\n",
       "      <th>show_id</th>\n",
       "      <th>type</th>\n",
       "      <th>title</th>\n",
       "      <th>director</th>\n",
       "      <th>cast</th>\n",
       "      <th>release_year</th>\n",
       "      <th>rating</th>\n",
       "      <th>duration</th>\n",
       "      <th>listed_in</th>\n",
       "      <th>description</th>\n",
       "    </tr>\n",
       "  </thead>\n",
       "  <tbody>\n",
       "    <tr>\n",
       "      <th>0</th>\n",
       "      <td>s1</td>\n",
       "      <td>Movie</td>\n",
       "      <td>The Grand Seduction</td>\n",
       "      <td>Don McKellar</td>\n",
       "      <td>Brendan Gleeson, Taylor Kitsch, Gordon Pinsent</td>\n",
       "      <td>2014</td>\n",
       "      <td>Unavailable</td>\n",
       "      <td>113 min</td>\n",
       "      <td>Comedy, Drama</td>\n",
       "      <td>A small fishing village must procure a local d...</td>\n",
       "    </tr>\n",
       "    <tr>\n",
       "      <th>1</th>\n",
       "      <td>s2</td>\n",
       "      <td>Movie</td>\n",
       "      <td>Take Care Good Night</td>\n",
       "      <td>Girish Joshi</td>\n",
       "      <td>Mahesh Manjrekar, Abhay Mahajan, Sachin Khedekar</td>\n",
       "      <td>2018</td>\n",
       "      <td>13+</td>\n",
       "      <td>110 min</td>\n",
       "      <td>Drama, International</td>\n",
       "      <td>A Metro Family decides to fight a Cyber Crimin...</td>\n",
       "    </tr>\n",
       "    <tr>\n",
       "      <th>2</th>\n",
       "      <td>s3</td>\n",
       "      <td>Movie</td>\n",
       "      <td>Secrets of Deception</td>\n",
       "      <td>Josh Webber</td>\n",
       "      <td>Tom Sizemore, Lorenzo Lamas, Robert LaSardo, R...</td>\n",
       "      <td>2017</td>\n",
       "      <td>Unavailable</td>\n",
       "      <td>74 min</td>\n",
       "      <td>Action, Drama, Suspense</td>\n",
       "      <td>After a man discovers his wife is cheating on ...</td>\n",
       "    </tr>\n",
       "    <tr>\n",
       "      <th>3</th>\n",
       "      <td>s4</td>\n",
       "      <td>Movie</td>\n",
       "      <td>Pink: Staying True</td>\n",
       "      <td>Sonia Anderson</td>\n",
       "      <td>Interviews with: Pink, Adele, Beyoncé, Britney...</td>\n",
       "      <td>2014</td>\n",
       "      <td>Unavailable</td>\n",
       "      <td>69 min</td>\n",
       "      <td>Documentary</td>\n",
       "      <td>Pink breaks the mold once again, bringing her ...</td>\n",
       "    </tr>\n",
       "    <tr>\n",
       "      <th>4</th>\n",
       "      <td>s5</td>\n",
       "      <td>Movie</td>\n",
       "      <td>Monster Maker</td>\n",
       "      <td>Giles Foster</td>\n",
       "      <td>Harry Dean Stanton, Kieran O'Brien, George Cos...</td>\n",
       "      <td>1989</td>\n",
       "      <td>Unavailable</td>\n",
       "      <td>45 min</td>\n",
       "      <td>Drama, Fantasy</td>\n",
       "      <td>Teenage Matt Banting wants to work with a famo...</td>\n",
       "    </tr>\n",
       "  </tbody>\n",
       "</table>\n",
       "</div>"
      ],
      "text/plain": [
       "  show_id   type                 title        director  \\\n",
       "0      s1  Movie   The Grand Seduction    Don McKellar   \n",
       "1      s2  Movie  Take Care Good Night    Girish Joshi   \n",
       "2      s3  Movie  Secrets of Deception     Josh Webber   \n",
       "3      s4  Movie    Pink: Staying True  Sonia Anderson   \n",
       "4      s5  Movie         Monster Maker    Giles Foster   \n",
       "\n",
       "                                                cast  release_year  \\\n",
       "0     Brendan Gleeson, Taylor Kitsch, Gordon Pinsent          2014   \n",
       "1   Mahesh Manjrekar, Abhay Mahajan, Sachin Khedekar          2018   \n",
       "2  Tom Sizemore, Lorenzo Lamas, Robert LaSardo, R...          2017   \n",
       "3  Interviews with: Pink, Adele, Beyoncé, Britney...          2014   \n",
       "4  Harry Dean Stanton, Kieran O'Brien, George Cos...          1989   \n",
       "\n",
       "        rating duration                listed_in  \\\n",
       "0  Unavailable  113 min            Comedy, Drama   \n",
       "1          13+  110 min     Drama, International   \n",
       "2  Unavailable   74 min  Action, Drama, Suspense   \n",
       "3  Unavailable   69 min              Documentary   \n",
       "4  Unavailable   45 min           Drama, Fantasy   \n",
       "\n",
       "                                         description  \n",
       "0  A small fishing village must procure a local d...  \n",
       "1  A Metro Family decides to fight a Cyber Crimin...  \n",
       "2  After a man discovers his wife is cheating on ...  \n",
       "3  Pink breaks the mold once again, bringing her ...  \n",
       "4  Teenage Matt Banting wants to work with a famo...  "
      ]
     },
     "execution_count": 11,
     "metadata": {},
     "output_type": "execute_result"
    }
   ],
   "source": [
    "df.head()"
   ]
  },
  {
   "cell_type": "code",
   "execution_count": 12,
   "id": "ea45dcf4",
   "metadata": {},
   "outputs": [
    {
     "data": {
      "text/plain": [
       "show_id         0\n",
       "type            0\n",
       "title           0\n",
       "director        0\n",
       "cast            0\n",
       "release_year    0\n",
       "rating          0\n",
       "duration        0\n",
       "listed_in       0\n",
       "description     0\n",
       "dtype: int64"
      ]
     },
     "execution_count": 12,
     "metadata": {},
     "output_type": "execute_result"
    }
   ],
   "source": [
    "df.isnull().sum()"
   ]
  },
  {
   "cell_type": "markdown",
   "id": "961db17e",
   "metadata": {},
   "source": [
    "Looks like we are done with the cleaning part."
   ]
  },
  {
   "cell_type": "markdown",
   "id": "3f542735",
   "metadata": {},
   "source": [
    "##### Lets Explore the key features of the data"
   ]
  },
  {
   "cell_type": "code",
   "execution_count": 13,
   "id": "718ff0f8",
   "metadata": {},
   "outputs": [
    {
     "data": {
      "text/plain": [
       "array(['Movie', 'TV Show'], dtype=object)"
      ]
     },
     "execution_count": 13,
     "metadata": {},
     "output_type": "execute_result"
    }
   ],
   "source": [
    "df['type'].unique() # There are 2 attribute in the feature 'type'"
   ]
  },
  {
   "cell_type": "code",
   "execution_count": 14,
   "id": "65a49b07",
   "metadata": {},
   "outputs": [
    {
     "data": {
      "text/plain": [
       "5775"
      ]
     },
     "execution_count": 14,
     "metadata": {},
     "output_type": "execute_result"
    }
   ],
   "source": [
    "df['director'].nunique()"
   ]
  },
  {
   "cell_type": "code",
   "execution_count": 15,
   "id": "7a4117e2",
   "metadata": {},
   "outputs": [
    {
     "data": {
      "text/plain": [
       "array(['Unavailable', '13+', 'ALL', '18+', 'R', 'TV-Y', 'TV-Y7', 'NR',\n",
       "       '16+', 'TV-PG', '7+', 'TV-14', 'TV-NR', 'TV-G', 'PG-13', 'TV-MA',\n",
       "       'G', 'PG', 'NC-17', 'UNRATED', '16', 'AGES_16_', 'AGES_18_',\n",
       "       'ALL_AGES', 'NOT_RATE'], dtype=object)"
      ]
     },
     "execution_count": 15,
     "metadata": {},
     "output_type": "execute_result"
    }
   ],
   "source": [
    "df['rating'].unique()"
   ]
  },
  {
   "cell_type": "code",
   "execution_count": 16,
   "id": "e6722fe6",
   "metadata": {},
   "outputs": [],
   "source": [
    "df['rating'] = df['rating'].where(df['rating'] != 'NOT_RATE', 'Unavailable')"
   ]
  },
  {
   "cell_type": "code",
   "execution_count": 17,
   "id": "f3b124b9",
   "metadata": {},
   "outputs": [
    {
     "data": {
      "text/plain": [
       "array(['Unavailable', '13+', 'ALL', '18+', 'R', 'TV-Y', 'TV-Y7', 'NR',\n",
       "       '16+', 'TV-PG', '7+', 'TV-14', 'TV-NR', 'TV-G', 'PG-13', 'TV-MA',\n",
       "       'G', 'PG', 'NC-17', 'UNRATED', '16', 'AGES_16_', 'AGES_18_',\n",
       "       'ALL_AGES'], dtype=object)"
      ]
     },
     "execution_count": 17,
     "metadata": {},
     "output_type": "execute_result"
    }
   ],
   "source": [
    "df['rating'].unique()"
   ]
  },
  {
   "cell_type": "code",
   "execution_count": 18,
   "id": "e77a2527",
   "metadata": {},
   "outputs": [],
   "source": [
    "df['rating'] = df['rating'].where(df['rating'] != 'AGES_16_', '16+')\n",
    "df['rating'] = df['rating'].where(df['rating'] != 'AGES_18_', '18+')\n",
    "df['rating'] = df['rating'].where(df['rating'] != '16', '16+')\n",
    "df['rating'] = df['rating'].where(df['rating'] != 'UNRATED', 'Unavailable')"
   ]
  },
  {
   "cell_type": "code",
   "execution_count": 19,
   "id": "c807bea3",
   "metadata": {},
   "outputs": [],
   "source": [
    "df['rating'].unique().sort()"
   ]
  },
  {
   "cell_type": "code",
   "execution_count": 20,
   "id": "94103195",
   "metadata": {},
   "outputs": [
    {
     "data": {
      "text/plain": [
       "array(['Unavailable', '13+', 'ALL', '18+', 'R', 'TV-Y', 'TV-Y7', 'NR',\n",
       "       '16+', 'TV-PG', '7+', 'TV-14', 'TV-NR', 'TV-G', 'PG-13', 'TV-MA',\n",
       "       'G', 'PG', 'NC-17', 'ALL_AGES'], dtype=object)"
      ]
     },
     "execution_count": 20,
     "metadata": {},
     "output_type": "execute_result"
    }
   ],
   "source": [
    "df['rating'].unique() # Looks good for now"
   ]
  },
  {
   "cell_type": "code",
   "execution_count": 21,
   "id": "bdecc1ca",
   "metadata": {},
   "outputs": [
    {
     "data": {
      "text/plain": [
       "array([2014, 2018, 2017, 1989, 2016, 1994, 2020, 2019, 2008, 2001, 1941,\n",
       "       1991, 2005, 2015, 2011, 2013, 1949, 2007, 2002, 1955, 1959, 1983,\n",
       "       2009, 2012, 2010, 1986, 1988, 1920, 1936, 1992, 2021, 1993, 2006,\n",
       "       1948, 1946, 1944, 1935, 1985, 1937, 1970, 1945, 1939, 1996, 1997,\n",
       "       1974, 1938, 1978, 2004, 1943, 1975, 1960, 1934, 1940, 1961, 2003,\n",
       "       2000, 1967, 1995, 1951, 1932, 1999, 1963, 1969, 1952, 1947, 1929,\n",
       "       1990, 1925, 1968, 1987, 1942, 1979, 1980, 1981, 1976, 1966, 1973,\n",
       "       1956, 1972, 1950, 1953, 1982, 1977, 1933, 1958, 1984, 1998, 1924,\n",
       "       1922, 1926, 1954, 1930, 1971, 1965, 1931, 1923, 1962, 1964, 1957,\n",
       "       1927], dtype=int64)"
      ]
     },
     "execution_count": 21,
     "metadata": {},
     "output_type": "execute_result"
    }
   ],
   "source": [
    "df['release_year'].unique()"
   ]
  },
  {
   "cell_type": "code",
   "execution_count": 22,
   "id": "3ab95d8d",
   "metadata": {
    "scrolled": true
   },
   "outputs": [
    {
     "data": {
      "text/plain": [
       "array(['113 min', '110 min', '74 min', '69 min', '45 min', '52 min',\n",
       "       '98 min', '131 min', '87 min', '92 min', '88 min', '93 min',\n",
       "       '94 min', '46 min', '96 min', '1 Season', '104 min', '62 min',\n",
       "       '50 min', '3 Seasons', '2 Seasons', '86 min', '36 min', '37 min',\n",
       "       '103 min', '9 min', '18 min', '14 min', '20 min', '19 min',\n",
       "       '22 min', '60 min', '6 min', '54 min', '5 min', '84 min',\n",
       "       '126 min', '125 min', '109 min', '89 min', '85 min', '56 min',\n",
       "       '40 min', '111 min', '33 min', '34 min', '95 min', '99 min',\n",
       "       '78 min', '4 Seasons', '77 min', '55 min', '53 min', '115 min',\n",
       "       '58 min', '49 min', '135 min', '91 min', '64 min', '59 min',\n",
       "       '48 min', '122 min', '90 min', '102 min', '65 min', '114 min',\n",
       "       '136 min', '70 min', '138 min', '100 min', '480 min', '4 min',\n",
       "       '30 min', '152 min', '68 min', '57 min', '7 Seasons', '31 min',\n",
       "       '151 min', '149 min', '9 Seasons', '141 min', '121 min', '79 min',\n",
       "       '140 min', '51 min', '106 min', '75 min', '27 min', '107 min',\n",
       "       '108 min', '38 min', '157 min', '43 min', '118 min', '139 min',\n",
       "       '6 Seasons', '112 min', '15 min', '72 min', '5 Seasons', '116 min',\n",
       "       '142 min', '71 min', '42 min', '81 min', '32 min', '66 min',\n",
       "       '127 min', '159 min', '67 min', '29 min', '132 min', '101 min',\n",
       "       '164 min', '73 min', '61 min', '80 min', '83 min', '44 min',\n",
       "       '120 min', '26 min', '97 min', '23 min', '105 min', '82 min',\n",
       "       '11 min', '148 min', '161 min', '123 min', '29 Seasons', '0 min',\n",
       "       '124 min', '143 min', '35 min', '47 min', '170 min', '19 Seasons',\n",
       "       '3 min', '146 min', '601 min', '24 min', '21 Seasons', '154 min',\n",
       "       '128 min', '133 min', '153 min', '119 min', '63 min', '169 min',\n",
       "       '174 min', '144 min', '7 min', '137 min', '76 min', '39 min',\n",
       "       '8 Seasons', '12 Seasons', '134 min', '163 min', '1 min',\n",
       "       '145 min', '162 min', '41 min', '147 min', '155 min', '117 min',\n",
       "       '167 min', '11 Seasons', '28 min', '25 min', '180 min', '2 min',\n",
       "       '541 min', '240 min', '129 min', '178 min', '171 min', '21 min',\n",
       "       '172 min', '173 min', '10 min', '166 min', '160 min', '130 min',\n",
       "       '479 min', '13 min', '8 min', '10 Seasons', '17 min', '16 min',\n",
       "       '158 min', '183 min', '12 min', '14 Seasons', '150 min', '481 min',\n",
       "       '181 min', '156 min', '540 min', '177 min', '550 min', '485 min',\n",
       "       '176 min', '193 min', '165 min', '175 min', '188 min', '187 min',\n",
       "       '168 min', '190 min', '185 min', '209 min', '192 min', '182 min',\n",
       "       '207 min', '269 min', '15 Seasons', '191 min'], dtype=object)"
      ]
     },
     "execution_count": 22,
     "metadata": {},
     "output_type": "execute_result"
    }
   ],
   "source": [
    "df['duration'].unique()\n",
    "# Here we have duration in 'minutes' as well as in 'Seasons'."
   ]
  },
  {
   "cell_type": "markdown",
   "id": "e49b9dad",
   "metadata": {},
   "source": [
    "So far so Good 😊"
   ]
  },
  {
   "cell_type": "markdown",
   "id": "6f62421f",
   "metadata": {},
   "source": [
    "#### Let's Visualise the data"
   ]
  },
  {
   "cell_type": "code",
   "execution_count": 23,
   "id": "3d384ce6",
   "metadata": {},
   "outputs": [
    {
     "data": {
      "text/plain": [
       "(9668, 10)"
      ]
     },
     "execution_count": 23,
     "metadata": {},
     "output_type": "execute_result"
    }
   ],
   "source": [
    "df.shape"
   ]
  },
  {
   "cell_type": "code",
   "execution_count": 24,
   "id": "2ed127f8",
   "metadata": {},
   "outputs": [],
   "source": [
    "dfv = df.copy()"
   ]
  },
  {
   "cell_type": "code",
   "execution_count": 25,
   "id": "e1134d77",
   "metadata": {},
   "outputs": [
    {
     "data": {
      "image/png": "[encoded data removed]",
      "text/plain": [
       "<Figure size 600x600 with 1 Axes>"
      ]
     },
     "metadata": {},
     "output_type": "display_data"
    }
   ],
   "source": [
    "df_pie = dfv['type'].copy().value_counts()\n",
    "plt.figure(figsize=(6,6))\n",
    "plt.pie(\n",
    "    x=df_pie.values,labels=df_pie.index,autopct='%.1f%%',\n",
    "    wedgeprops={'linewidth':2.0,'edgecolor':'white'}\n",
    "    )\n",
    "plt.title('Movie and TV Shows Ratio')\n",
    "plt.legend(labels=[f\"{label} ({count})\" for label, count in zip(df_pie.index, df_pie.values)],loc='best')\n",
    "note_text = \"Note: This chat above shows that movies are the most common type of show on amazon prime\"\n",
    "plt.text(0.5, -1.5, note_text, fontsize=12, ha='center')\n",
    "plt.show()"
   ]
  },
  {
   "cell_type": "code",
   "execution_count": 26,
   "id": "f5d30aa0",
   "metadata": {},
   "outputs": [
    {
     "data": {
      "text/plain": [
       "2021    1442\n",
       "2020     962\n",
       "2019     929\n",
       "2018     623\n",
       "2017     562\n",
       "        ... \n",
       "1922       2\n",
       "1926       2\n",
       "1924       1\n",
       "1923       1\n",
       "1927       1\n",
       "Name: release_year, Length: 100, dtype: int64"
      ]
     },
     "execution_count": 26,
     "metadata": {},
     "output_type": "execute_result"
    }
   ],
   "source": [
    "df['release_year'].value_counts()"
   ]
  },
  {
   "cell_type": "markdown",
   "id": "44bd08fc",
   "metadata": {},
   "source": [
    "#### Let's export the cleaned data an visualize the data using the tool called \"Tableau\""
   ]
  },
  {
   "cell_type": "code",
   "execution_count": 27,
   "id": "a6f354ae",
   "metadata": {},
   "outputs": [],
   "source": [
    "df.to_csv('Cleaned Dataset.csv', index =False)"
   ]
  },
  {
   "attachments": {
    "Distribution.png": {
     "image/png": "[encoded data removed]"
    }
   },
   "cell_type": "markdown",
   "id": "b7dfd963",
   "metadata": {},
   "source": [
    "![Distribution.png](attachment:Distribution.png)"
   ]
  },
  {
   "attachments": {
    "Rating%20Distribution.png": {
     "image/png": "[encoded data removed]"
    }
   },
   "cell_type": "markdown",
   "id": "652bdbb4",
   "metadata": {},
   "source": [
    "![Rating%20Distribution.png](attachment:Rating%20Distribution.png)"
   ]
  },
  {
   "attachments": {
    "Ratio%20Movie%20vs%20TV%20Shows.png": {
     "image/png": "[encoded data removed]"
    }
   },
   "cell_type": "markdown",
   "id": "e2b315d8",
   "metadata": {},
   "source": [
    "![Ratio%20Movie%20vs%20TV%20Shows.png](attachment:Ratio%20Movie%20vs%20TV%20Shows.png)"
   ]
  },
  {
   "cell_type": "code",
   "execution_count": null,
   "id": "57545eec",
   "metadata": {},
   "outputs": [],
   "source": []
  }
 ],
 "metadata": {
  "kernelspec": {
   "display_name": "Python 3 (ipykernel)",
   "language": "python",
   "name": "python3"
  },
  "language_info": {
   "codemirror_mode": {
    "name": "ipython",
    "version": 3
   },
   "file_extension": ".py",
   "mimetype": "text/x-python",
   "name": "python",
   "nbconvert_exporter": "python",
   "pygments_lexer": "ipython3",
   "version": "3.11.4"
  }
 },
 "nbformat": 4,
 "nbformat_minor": 5
}
